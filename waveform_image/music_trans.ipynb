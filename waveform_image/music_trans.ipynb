{
 "metadata": {
  "language_info": {
   "codemirror_mode": {
    "name": "ipython",
    "version": 3
   },
   "file_extension": ".py",
   "mimetype": "text/x-python",
   "name": "python",
   "nbconvert_exporter": "python",
   "pygments_lexer": "ipython3",
   "version": "3.7.6-final"
  },
  "orig_nbformat": 2,
  "kernelspec": {
   "name": "python3",
   "display_name": "Python 3"
  }
 },
 "nbformat": 4,
 "nbformat_minor": 2,
 "cells": [
  {
   "cell_type": "code",
   "execution_count": 1,
   "metadata": {},
   "outputs": [],
   "source": [
    "import os\n",
    "import pandas as pd\n",
    "import numpy as np\n",
    "import seaborn as sns\n",
    "import matplotlib.pyplot as plt\n",
    "\n",
    "from scipy.io import wavfile\n",
    "# from glob import glob\n",
    "from tqdm import tqdm\n",
    "\n",
    "import librosa.display, librosa\n",
    "\n",
    "%matplotlib inline\n",
    "\n",
    "sns.set_style('darkgrid')"
   ]
  },
  {
   "cell_type": "code",
   "execution_count": 2,
   "metadata": {},
   "outputs": [
    {
     "output_type": "stream",
     "name": "stdout",
     "text": [
      "c:\\Users\\husky\\Documents\\Enterprise_project\\code\\임시본저장\\sound_similarity_search\n"
     ]
    }
   ],
   "source": [
    "print(os.getcwd())"
   ]
  },
  {
   "cell_type": "code",
   "execution_count": 4,
   "metadata": {},
   "outputs": [
    {
     "output_type": "stream",
     "name": "stdout",
     "text": [
      "after: C:\\Users\\husky\\Documents\\Enterprise_project\\data\\freesound-audio-tagging\\audio_train\n"
     ]
    }
   ],
   "source": [
    "# 기본 경로를 음악파일이 있는 경로로 변경\n",
    "os.chdir(\"C:/Users/husky/Documents/Enterprise_project/data/freesound-audio-tagging/audio_train\")\n",
    "print(\"after: %s\"%os.getcwd())\n",
    "\n",
    "FOLDER_PATH=os.getcwd()\n",
    "FILE_LIST = os.listdir(FOLDER_PATH)\n",
    "print(FILE_LIST[0])\n",
    "\n",
    "# 사진이 저장될 폴더경로 설정 \n",
    "PICTURE_PATH = 'C:/Users/husky/Documents/Enterprise_project/data/freesound-audio-tagging/test'\n",
    "\n",
    "print(PICTURE_PATH)"
   ]
  },
  {
   "cell_type": "code",
   "execution_count": 22,
   "metadata": {},
   "outputs": [
    {
     "output_type": "stream",
     "name": "stdout",
     "text": [
      "473\nend\n"
     ]
    }
   ],
   "source": [
    "# cnt=0\n",
    "for file in tqdm(FILE_LIST):\n",
    "    FILE_PATH=FOLDER_PATH + '/' + file\n",
    "\n",
    "    #sig: 음향 데이터 경로\n",
    "    #sr : sampling rate (주파수 분석 및 파형의 시간 간격을 결정, 숫자가 들어가며, 이때 'None'을 주면 기본 샘플링 속도로 사용)\n",
    "    sig, sr = librosa.load(FILE_PATH)\n",
    "    \n",
    "    fig=plt.figure()\n",
    "    librosa.display.waveplot(sig, sr, alpha=0.5)\n",
    "    plt.xlabel(\"Time (s)\")\n",
    "    plt.ylabel(\"Amplitude\")\n",
    "    plt.title(\"Waveform\")\n",
    "    \n",
    "    plt.savefig(PICTURE_PATH+'/'+file+'.png')\n",
    "    plt.close(fig)#메모리 누수를 막기 위해, 만들었던 fig 삭제\n",
    "    # cnt+=1\n",
    "# print(cnt)\n",
    "print('end')"
   ]
  }
 ]
}