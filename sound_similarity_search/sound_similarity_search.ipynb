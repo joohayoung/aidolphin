{
 "cells": [
  {
   "cell_type": "code",
   "execution_count": 18,
   "metadata": {},
   "outputs": [],
   "source": [
    "import numpy as np\n",
    "from python_speech_features import mfcc\n",
    "import scipy.io.wavfile as wav\n",
    "import matplotlib.pyplot as plt\n",
    "import os\n",
    "import librosa\n",
    "import soundfile as sf # 리샘플링한 음악을 저장\n",
    "import pandas as pd\n",
    "import csv\n",
    "# from tqdm import tqdm "
   ]
  },
  {
   "cell_type": "code",
   "execution_count": 19,
   "metadata": {},
   "outputs": [],
   "source": [
    "# 1. 사용한 음향데이터가 16000hz가 아니라 에러가 나므로\n",
    "# 음향의 샘플링을 16000hz로 변환\n",
    "import csv\n",
    "\n",
    "def resampling(file,origin_sr,resample_sr):\n",
    "#     resample_sr = 16000\n",
    "#     origin_sr = 44100\n",
    "#     resample_sr= resample_sr\n",
    "#     origin_sr = origin_sr\n",
    "    \n",
    "    # input으로 넣어줄 경로 지정\n",
    "    os.chdir(\"C:/Users/husky/Documents/기업프로젝트/data/freesound-audio-tagging/audio_test\")\n",
    "\n",
    "    # file 예시: 00063640.wav ,  (type: 'str')\n",
    "    y, sr = librosa.load(file, sr=origin_sr)\n",
    "    resample = librosa.resample(y, sr, resample_sr)\n",
    "#     print(\"original wav sr: {}, original wav shape: {}, resample wav sr: {}, resmaple shape: {}\".format(origin_sr, y.shape, resample_sr, resample.shape))\n",
    "    # wav 로 파일 저장\n",
    "    sf.write('../test_music/' + file, resample, resample_sr, format='WAV', endian='LITTLE', subtype='PCM_16')\n",
    "\n",
    "#모든 파일을 리샘플링(44100hz->16000hz) 해주었다면 더이상 실행시키지 않아도 됨\n",
    "# 추후 새로 입력이 들어오는 데이터가 있다면 해당 파일의 샘플링을 알아야하고,\n",
    "# 16000이 아니라면 샘플링을 해주어야 함(샘플링이 다르면 경고가 발생하는데 근대 무시해도 문제는 없다고 ..)"
   ]
  },
  {
   "cell_type": "code",
   "execution_count": 20,
   "metadata": {},
   "outputs": [],
   "source": [
    "#  ElasticSearch는 저장해야할 picture가 늘어나면 강제종료되는 버그가 있기에 파일에 저장하는 방식을 선택\n",
    "\n",
    "def feature_save(file):\n",
    "    os.chdir(\"../test_music/\")\n",
    "    \n",
    "    # wav파일에서 MFCC 특성 추출\n",
    "    (rate,sig) = wav.read(file)\n",
    "    \n",
    "    mfcc_feat = mfcc(sig,rate)\n",
    "    feat_mean = np.mean(mfcc_feat, axis = 0)\n",
    "    feat_cov = np.cov(mfcc_feat,rowvar=0)\n",
    "    feat_cov_up = np.triu(feat_cov, k=0)# 상삼각행렬(Upper triangular matrix)을 반환\n",
    "    feat_flat = feat_cov_up.flatten()\n",
    "    index = np.arange(len(feat_flat))[feat_flat==0]\n",
    "    feat_cov = list(np.delete(feat_flat, index))\n",
    "    \n",
    "    # 모든 특성 벡터를 더한 값 \n",
    "    feat = []\n",
    "    sum1= np.sum(feat_mean)+sum(feat_cov)\n",
    "    sum2=np.float64(sum1).item() # 리스트에 넣기 위해 np float64 -> list형식으로 변환\n",
    "    \n",
    "#       생성되는 csv 형태\n",
    "#             name         sum         vector1     vector2     vector3  ... vector104\n",
    "#       1번째 wav파일   벡터 합       벡터 값1    벡터 값2   벡터 값3 ...   벡터 값104\n",
    "#       2번재 wav파일   벡터 합        ... \n",
    "    feat.append(file) # wav파일 이름 저장\n",
    "    feat.append(sum2) # extend는 list에 여러 이터레이터를 인풋, append는 한개의 항목 인풋\n",
    "    feat.extend(feat_mean)#<class 'numpy.ndarray'>   # 이 값은 들어가짐. extend()라 그런듯\n",
    "    feat.extend(feat_cov) # <class 'list'>\n",
    "    \n",
    "    # csv파일 마지막에 새로 추가한 음향 한줄작성\n",
    "    with open('../test.csv', 'a', newline='\\n') as f:\n",
    "        writer = csv.writer(f)\n",
    "        writer.writerow(feat)"
   ]
  },
  {
   "cell_type": "code",
   "execution_count": 21,
   "metadata": {},
   "outputs": [],
   "source": [
    "def music_search(file):\n",
    "    # csv 읽기\n",
    "    music_df=pd.read_csv('../test.csv',encoding=\"utf-8\")\n",
    "\n",
    "    # 마지막에 추가된 값(비교할 값)의 sum을 compare_sum에 저장\n",
    "    compare_sum=music_df.iloc[-1]['sum']\n",
    "    # 유사도 비교해줄 행을 compare에 저장\n",
    "    compare=music_df.iloc[-1]\n",
    "\n",
    "\n",
    "    # sum값이 인접한 10%들을 검색하여 filter1에 저장\n",
    "    filter1=music_df[(music_df['sum']>(compare_sum*0.95)) & (music_df['sum']<(compare_sum*1.05))]\n",
    "    # 비교해야할 값도 filter1에 포함되었기에 filter1에선 삭제\n",
    "    filter1=filter1.drop(filter1.index[-1])\n",
    "\n",
    "    hap=0\n",
    "    filter_list=[]\n",
    "    for i in range(len(filter1)):\n",
    "        for j in range(2,len(filter1.columns)): # 2부터 시작\n",
    "            hap+= (compare[j]-filter1.iloc[i][j])**2 # 유클리드 거리 \n",
    "        filter_list.append(hap)\n",
    "        hap=0\n",
    "\n",
    "    # 정렬을 위해 dict로 생성 \n",
    "    filter_dict={}\n",
    "    for i in range(len(filter_list)):\n",
    "        filter_dict[filter1.iloc[i]['name']]=filter_list[i]\n",
    "\n",
    "    # 값(value)을 기준으로 오름차순 정렬\n",
    "    sorted(filter_dict.items(), key=lambda x:x[1])\n",
    "    \n",
    "    # 유사한 음향 5개 반환\n",
    "    result=[]\n",
    "    cnt=0\n",
    "    for key in filter_dict.keys():\n",
    "        if(cnt>=5):\n",
    "            break\n",
    "        # file이름이 똑같다면 넘김\n",
    "        if(file==filter_dict.keys):\n",
    "            continue\n",
    "        result.append(key)\n",
    "        cnt+=1\n",
    "    print(result)\n",
    "    return result"
   ]
  },
  {
   "cell_type": "code",
   "execution_count": 22,
   "metadata": {},
   "outputs": [
    {
     "name": "stdout",
     "output_type": "stream",
     "text": [
      "original wav sr: 44100, original wav shape: (392490,), resample wav sr: 16000, resmaple shape: (142400,)\n",
      "['0091fc7f.wav', '0172a2a5.wav', '02d6b747.wav', '0356dec7.wav', '03d00f38.wav']\n"
     ]
    }
   ],
   "source": [
    "# test code\n",
    "\n",
    "# 유사음향을 찾을 file이름을 줘야함\n",
    "\n",
    "try:\n",
    "#     file='00ae03f6.wav'\n",
    "    resampling(file,44100,16000) # 44100은 input 샘플링, 16000은 바꿀 샘플링\n",
    "    feature_save(file)\n",
    "    music_list=music_search(file)\n",
    "except:\n",
    "    print(file,'error')"
   ]
  }
 ],
 "metadata": {
  "kernelspec": {
   "display_name": "Python 3",
   "language": "python",
   "name": "python3"
  },
  "language_info": {
   "codemirror_mode": {
    "name": "ipython",
    "version": 3
   },
   "file_extension": ".py",
   "mimetype": "text/x-python",
   "name": "python",
   "nbconvert_exporter": "python",
   "pygments_lexer": "ipython3",
   "version": "3.7.6"
  }
 },
 "nbformat": 4,
 "nbformat_minor": 4
}
